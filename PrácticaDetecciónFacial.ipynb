{
 "cells": [
  {
   "cell_type": "markdown",
   "metadata": {},
   "source": [
    "# Práctica: Detección d erostros con OpenCv"
   ]
  },
  {
   "cell_type": "markdown",
   "metadata": {},
   "source": [
    "# Alumna: Paola Rodríguez Medrano"
   ]
  },
  {
   "cell_type": "code",
   "execution_count": 1,
   "metadata": {},
   "outputs": [],
   "source": [
    "import matplotlib.image as mpimg\n",
    "import matplotlib.pyplot as plt"
   ]
  },
  {
   "cell_type": "markdown",
   "metadata": {},
   "source": [
    "La detección es una técnica que identifica o localiza rostros humanos en imágenes digitales. Un ejemplo típico d edetección de rostros ocurre cuando tomamos fotografías a travéss de nuestros teléfonos inteligentes, y detecta instantáneamente rostros en la imagen. La detección de rostros es diferente del reconocimiento de rostros. La detección de rostros detecta simplemente la presencia de rostros en una imagen, mientras que el reconocimiento facial implica identificar de quién es el rostro. En esta práctica, solo trataremos con el primero."
   ]
  },
  {
   "cell_type": "markdown",
   "metadata": {},
   "source": [
    "LA detección de rostros se realiza mediante el uso de clasificadores. Un clasificador es escencialmente un algoritmo que decide si una imagen dada es positiva (cara) o negativa (no una cara). Un clasificador necesita ser entrenado en miles de imágenes con y sin caras. Afortunadamente, OpenCV ya tiene dos clasificadores de detección de rostros previamente entrenados, que pueden usarse fácilmente en un programa. Los dos clasificadores son:"
   ]
  },
  {
   "cell_type": "markdown",
   "metadata": {},
   "source": [
    "Haar Classifler."
   ]
  },
  {
   "cell_type": "markdown",
   "metadata": {},
   "source": [
    "Local Binary Pattern(LBP) classifier."
   ]
  },
  {
   "cell_type": "markdown",
   "metadata": {},
   "source": [
    "En esta práctica, solo discutiremos el clasificador Haar."
   ]
  },
  {
   "cell_type": "markdown",
   "metadata": {},
   "source": [
    "### Haar feature-based cascada classifiers "
   ]
  },
  {
   "cell_type": "markdown",
   "metadata": {},
   "source": [
    "Las características tipo Haar son características de imágenes digitales utilizados en el reconocimeinto d eobjetos. Deben su nombre a su similitud intuitiva con las wavelets de Haar y se usaron en el primer detector facial en tiempo real. Paul Viola y Michael Jones en su artículo titulado \"Detección rápido de objetos usando una cascada mejorada de características simples\" utilizaron la idea del clasificador de características de Haar basado en las wavelets de Haar. Este clasificador es ampliamente utilizado para tareas como detección de rostros en la industria d ela visón por computadora."
   ]
  },
  {
   "cell_type": "markdown",
   "metadata": {},
   "source": [
    "El clasificador en cascada Haar emplea un enfoque de aprendizaje automático para la detección d eobjetos visuales que e scapaz de procesar imágenes extremadamente rápido y lograr altas tasas de detección. Esto puede atribuirse a tres razones principales."
   ]
  },
  {
   "cell_type": "markdown",
   "metadata": {},
   "source": [
    "1. El clasificador de Haar emplea el concepto \"Imagen integral\" que permite que las características utilizadas por el detector se calculen muy rápidamente."
   ]
  },
  {
   "cell_type": "markdown",
   "metadata": {},
   "source": [
    "2. El algoritmo d eaprendizaje se bada en AdaBoost. Selecciona una pequeña cantidad de características importantes de un conjunto grande y ofrece clasificadores altamente eficientes."
   ]
  },
  {
   "cell_type": "markdown",
   "metadata": {},
   "source": [
    "3. Los clasificadores más complejos se combinan para formar una \"cascada\" que descarte las regiones no faciales en una imagen. gastando así más cómputo en regiones prometedores similares a objetos."
   ]
  },
  {
   "cell_type": "markdown",
   "metadata": {},
   "source": [
    "### Cómo funciona el algoritmo en las imágenes en pasos:"
   ]
  },
  {
   "cell_type": "code",
   "execution_count": null,
   "metadata": {},
   "outputs": [],
   "source": []
  }
 ],
 "metadata": {
  "kernelspec": {
   "display_name": "Python 3",
   "language": "python",
   "name": "python3"
  },
  "language_info": {
   "codemirror_mode": {
    "name": "ipython",
    "version": 3
   },
   "file_extension": ".py",
   "mimetype": "text/x-python",
   "name": "python",
   "nbconvert_exporter": "python",
   "pygments_lexer": "ipython3",
   "version": "3.7.7"
  }
 },
 "nbformat": 4,
 "nbformat_minor": 4
}
