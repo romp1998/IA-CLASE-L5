{
 "cells": [
  {
   "cell_type": "markdown",
   "metadata": {},
   "source": [
    "# Práctica: Detección de lenguaje usando NLTK"
   ]
  },
  {
   "cell_type": "markdown",
   "metadata": {},
   "source": [
    "# Alumno: Paola Rodríguez Medrano 16111696 "
   ]
  },
  {
   "cell_type": "markdown",
   "metadata": {},
   "source": [
    "Python es uno de los lenguajes de programas más potentes y populares. Como hemos visto hasta el día de hoy se puede utilizar de muchas formas. Entre una de estas formas, se incluye la detección de idiomas. Es aquí en donde entran los algoritmos PLN."
   ]
  },
  {
   "cell_type": "markdown",
   "metadata": {},
   "source": [
    "Los algoritmos de PLN tienen que modificarse para diferentes corpus y de acuerdo con la grámatica de diferentes ideomas. De acuerdo con el idioma que se este utilizando para realizar PLN, es el software o librerías que se debe seleccionar. Por ejemplo, NLTK es la librería de procesamiento de lenguaje natural más utilizados para el idioma inglés en Python. Sin embargo, FreeLing es de las mejores alternativas de las mejores alternativas cuando estamos trabajando con español. "
   ]
  },
  {
   "cell_type": "markdown",
   "metadata": {},
   "source": [
    "La eficiencia del procesamiento d elenguaje natural depende de varios factores. Un modelo con una cantidad superior para el análisis d etexto debe incluir lo siguiente:"
   ]
  },
  {
   "cell_type": "markdown",
   "metadata": {},
   "source": [
    "### 1. Extracción de texto "
   ]
  },
  {
   "cell_type": "markdown",
   "metadata": {},
   "source": [
    "El texto puede extraerse mediante desde una página o datos web, importandoen un formato particular, tomándolo desde una base de datos o a través de una API."
   ]
  },
  {
   "cell_type": "markdown",
   "metadata": {},
   "source": [
    "### 2. Identificación del texto:"
   ]
  },
  {
   "cell_type": "markdown",
   "metadata": {},
   "source": [
    "Es el proceso de separación de texto relevante o de interés, del texto que nos añade ruido al análisis."
   ]
  },
  {
   "cell_type": "markdown",
   "metadata": {},
   "source": [
    "### 3. Procesamiento de Lenguaje NAtural (PLN):"
   ]
  },
  {
   "cell_type": "markdown",
   "metadata": {},
   "source": [
    "Es el conjunto de algoritmos que admiten el procesamiento de diferentes idiomas o lenguajes."
   ]
  },
  {
   "cell_type": "markdown",
   "metadata": {},
   "source": [
    "### 4. Aprendizaje automático "
   ]
  },
  {
   "cell_type": "markdown",
   "metadata": {},
   "source": [
    "Es un paso escencial para lograr objetivos como la colaboración, el análisis de sentimientos y la agrupación."
   ]
  },
  {
   "cell_type": "markdown",
   "metadata": {},
   "source": [
    "### Combinación d ePython y NLTK para la detección del lenguaje"
   ]
  },
  {
   "cell_type": "markdown",
   "metadata": {},
   "source": [
    "La mayoría d ela spersonas utilizan motores de búsqueda y redes sociales. Los cuales se muestran en diferentes lenguajes. Entre ellos español e inglés."
   ]
  },
  {
   "cell_type": "markdown",
   "metadata": {},
   "source": [
    "Para lograr este proceso, un texto indexado debe examinarse bien, lo que da como resultado el contenido mostrado por estos motores y redes sociales."
   ]
  },
  {
   "cell_type": "markdown",
   "metadata": {},
   "source": [
    "Existen muchas maneras de lograr este objetivo, la forma más fácil de hacerlo en mediante el enfoque basado en \"stop words\"."
   ]
  },
  {
   "cell_type": "markdown",
   "metadata": {},
   "source": [
    "\"Stop Words\" se usa en el procesamiento de lenguaje natural para mencionar palabras que se deben filtrar del texto antes de que tenga lugar cualquier tipo de procesamiento."
   ]
  },
  {
   "cell_type": "markdown",
   "metadata": {},
   "source": [
    "Ahora, tenemos un texto para detectar el idioma. El paso básico es Tokenizar el texto dado una lista de \"palabras\" y \"tokens\", utilizando un enfoque de los requerimientos."
   ]
  },
  {
   "cell_type": "markdown",
   "metadata": {},
   "source": [
    "### El siguiente ejemplo de detección d elenguaje utiliza NLTK y Python: "
   ]
  },
  {
   "cell_type": "code",
   "execution_count": 2,
   "metadata": {},
   "outputs": [
    {
     "name": "stdout",
     "output_type": "stream",
     "text": [
      "Cadena de texto: Hello my name is Paola Rodríguez\t Lenguaje: arabic\n",
      "\n",
      "Cadena de texto: Hola mi nombre es Paola Rodríguez\t Lenguaje: arabic\n",
      "\n",
      "Cadena de texto: Bonjour mon nom est Paola Rodríguez\t Lenguaje: arabic\n",
      "\n",
      "Cadena de texto: Hallo mein Name ist Paola Rodríguez\t Lenguaje: arabic\n"
     ]
    }
   ],
   "source": [
    "from nltk import *\n",
    "from nltk.corpus import *\n",
    "\n",
    "def lang_ratio(input):\n",
    "    lang_ratio = {} \n",
    "    tokens = wordpunct_tokenize(input)\n",
    "    words = [word.lower() for word in tokens]\n",
    "    for language in stopwords.fileids():\n",
    "        stopwords_set = set(stopwords.words(language))\n",
    "        words_set = set(words)\n",
    "        common_elements = words_set.intersection(stopwords_set)\n",
    "        lang_ratio[language] = len(common_elements)\n",
    "        return lang_ratio\n",
    "\n",
    "def detect_language(input):\n",
    "    ratios = lang_ratio(input)\n",
    "    language = max(ratios, key = ratios.get)\n",
    "    return language\n",
    "\n",
    "input1 = \"Hello my name is Paola Rodríguez\"\n",
    "input2 = \"Hola mi nombre es Paola Rodríguez\"\n",
    "input3 = \"Bonjour mon nom est Paola Rodríguez\"\n",
    "input4 = \"Hallo mein Name ist Paola Rodríguez\"\n",
    "\n",
    "language = detect_language(input1)\n",
    "print ('Cadena de texto: ' + input1 + '\\t Lenguaje: ' + language)\n",
    "\n",
    "language = detect_language(input2)\n",
    "print ('\\n' + 'Cadena de texto: ' + input2 + '\\t Lenguaje: ' + language)\n",
    "\n",
    "language = detect_language(input3)\n",
    "print ('\\n' + 'Cadena de texto: ' + input3 + '\\t Lenguaje: ' + language)\n",
    "\n",
    "language = detect_language(input4)\n",
    "print ('\\n' + 'Cadena de texto: ' + input4 + '\\t Lenguaje: ' + language)"
   ]
  },
  {
   "cell_type": "code",
   "execution_count": null,
   "metadata": {},
   "outputs": [],
   "source": []
  }
 ],
 "metadata": {
  "kernelspec": {
   "display_name": "Python 3",
   "language": "python",
   "name": "python3"
  },
  "language_info": {
   "codemirror_mode": {
    "name": "ipython",
    "version": 3
   },
   "file_extension": ".py",
   "mimetype": "text/x-python",
   "name": "python",
   "nbconvert_exporter": "python",
   "pygments_lexer": "ipython3",
   "version": "3.7.6"
  }
 },
 "nbformat": 4,
 "nbformat_minor": 4
}
